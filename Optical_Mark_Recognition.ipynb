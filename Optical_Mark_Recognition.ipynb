{
 "cells": [
  {
   "cell_type": "markdown",
   "metadata": {},
   "source": [
    "## Bubble sheet scanner and grader using OMR, Python and OpenCV"
   ]
  },
  {
   "cell_type": "code",
   "execution_count": 15,
   "metadata": {},
   "outputs": [],
   "source": [
    "import numpy as np\n",
    "import imutils\n",
    "from imutils import contours\n",
    "import cv2"
   ]
  },
  {
   "cell_type": "code",
   "execution_count": 2,
   "metadata": {},
   "outputs": [],
   "source": [
    "# To order points\n",
    "def order_points(pts):\n",
    "    rect = np.zeros((4,2),dtype = \"float32\")\n",
    "    # the top-left point will have the smallest sum, whereas\n",
    "    # the bottom-right point will have the largest sum\n",
    "    s = pts.sum(axis = 1)\n",
    "    rect[0] = pts[np.argmin(s)]\n",
    "    rect[2] = pts[np.argmax(s)]\n",
    "    \n",
    "    # top-right point will have the smallest difference,\n",
    "    # whereas the bottom-left will have the largest difference\n",
    "    diff = np.diff(pts, axis = 1)\n",
    "    rect[1] = pts[np.argmin(diff)]\n",
    "    rect[3] = pts[np.argmax(diff)]\n",
    "    \n",
    "    return rect"
   ]
  },
  {
   "cell_type": "code",
   "execution_count": 3,
   "metadata": {},
   "outputs": [],
   "source": [
    "#To transform from 3D to 2D\n",
    "def four_point_transform(image, pts):\n",
    "    # obtain a consistent order of the points and unpack them\n",
    "    # individually\n",
    "    rect = order_points(pts)\n",
    "    (tl, tr, br, bl) = rect\n",
    "    # compute the width maximum distance between bottom-right and bottom-left\n",
    "    # x-coordiates or the top-right and top-left\n",
    "    widthA = np.sqrt(((br[0] - bl[0]) ** 2) + ((br[1] - bl[1]) ** 2))\n",
    "    widthB = np.sqrt(((tr[0] - tl[0]) ** 2) + ((tr[1] - tl[1]) ** 2))\n",
    "    maxWidth = max(int(widthA), int(widthB))\n",
    "    # compute the height maximum distance between the top-right and bottom-right\n",
    "    # y-coordinates or the top-left and bottom-left y-coordinates\n",
    "    heightA = np.sqrt(((tr[0] - br[0]) ** 2) + ((tr[1] - br[1]) ** 2))\n",
    "    heightB = np.sqrt(((tl[0] - bl[0]) ** 2) + ((tl[1] - bl[1]) ** 2))\n",
    "    maxHeight = max(int(heightA), int(heightB))\n",
    "    # now that we have the dimensions of the new image, construct\n",
    "    # the set of destination points to obtain a \"birds eye view\"\n",
    "    dst = np.array([\n",
    "        [0, 0],\n",
    "        [maxWidth - 1, 0],\n",
    "        [maxWidth - 1, maxHeight - 1],\n",
    "        [0, maxHeight - 1]], dtype = \"float32\")\n",
    "    # compute the perspective transform matrix and then apply it\n",
    "    M = cv2.getPerspectiveTransform(rect, dst)\n",
    "    warped = cv2.warpPerspective(image, M, (maxWidth, maxHeight))\n",
    "    # return the warped image\n",
    "    return warped"
   ]
  },
  {
   "cell_type": "markdown",
   "metadata": {},
   "source": [
    "# Answer Key"
   ]
  },
  {
   "cell_type": "code",
   "execution_count": 4,
   "metadata": {},
   "outputs": [],
   "source": [
    "answer_key = {0:1,1:4,2:0,3:3,4:1}"
   ]
  },
  {
   "cell_type": "markdown",
   "metadata": {},
   "source": [
    "# Image Reading"
   ]
  },
  {
   "cell_type": "code",
   "execution_count": 5,
   "metadata": {},
   "outputs": [],
   "source": [
    "image = cv2.imread(\"omr_test_01.png\")\n",
    "orig = image.copy()\n",
    "gray = cv2.cvtColor(image,cv2.COLOR_BGR2GRAY)\n",
    "# blurring to remove noise\n",
    "blurred = cv2.GaussianBlur(gray,(5,5),0)\n",
    "edged = cv2.Canny(blurred,75,150)\n",
    "cv2.imshow(\"Edged\",edged)\n",
    "cv2.waitKey(0)\n",
    "cv2.destroyWindow(\"Edged\")"
   ]
  },
  {
   "cell_type": "markdown",
   "metadata": {},
   "source": [
    "# Extracting our Answer sheet from Background"
   ]
  },
  {
   "cell_type": "code",
   "execution_count": 6,
   "metadata": {},
   "outputs": [],
   "source": [
    "# finding contours\n",
    "cnts = cv2.findContours(edged.copy(),cv2.RETR_LIST,cv2.CHAIN_APPROX_SIMPLE)\n",
    "cnts = imutils.grab_contours(cnts)\n",
    "docCnt = None\n",
    "# Detecting largest rectangle(our answer sheet)\n",
    "if len(cnts) > 0:\n",
    "    cnts = sorted(cnts,key=cv2.contourArea,reverse=True)\n",
    "    for c in cnts:\n",
    "        peri = cv2.arcLength(c,True)\n",
    "        approx = cv2.approxPolyDP(c,0.02*peri,True)\n",
    "        if len(approx) == 4:\n",
    "            docCont = approx\n",
    "            break\n",
    "\n",
    "#changing the view\n",
    "paper = four_point_transform(image,docCont.reshape(4,2))\n",
    "wraped = four_point_transform(gray,docCont.reshape(4,2))\n",
    "paper_copy = paper.copy()\n",
    "cv2.imshow(\"Paper\",paper)\n",
    "cv2.imshow(\"Wraped\",wraped)\n",
    "cv2.waitKey(0)\n",
    "cv2.destroyWindow(\"Paper\") or cv2.destroyWindow(\"Wraped\")"
   ]
  },
  {
   "cell_type": "markdown",
   "metadata": {},
   "source": [
    "# Applying Theshold"
   ]
  },
  {
   "cell_type": "code",
   "execution_count": 7,
   "metadata": {},
   "outputs": [],
   "source": [
    "tresh = cv2.threshold(wraped,0,255,\n",
    "                     cv2.THRESH_BINARY_INV | cv2.THRESH_OTSU)[1]\n",
    "cv2.imshow(\"Thresh\",tresh)\n",
    "cv2.waitKey(0)\n",
    "cv2.destroyWindow(\"Thresh\")"
   ]
  },
  {
   "cell_type": "markdown",
   "metadata": {},
   "source": [
    "# Finding Contours for Circles(Bubbles)\n",
    "<a href = \"https://docs.opencv.org/3.4/d9/d8b/tutorial_py_contours_hierarchy.html\">for Contour Hierarchy</a>"
   ]
  },
  {
   "cell_type": "code",
   "execution_count": 8,
   "metadata": {},
   "outputs": [],
   "source": [
    "#Retriving externel contours\n",
    "cnts = cv2.findContours(tresh.copy(),cv2.RETR_EXTERNAL,cv2.CHAIN_APPROX_SIMPLE)\n",
    "cnts = imutils.grab_contours(cnts)\n",
    "questionCnts = []\n",
    "for c in cnts:\n",
    "    (x,y,w,h) = cv2.boundingRect(c)\n",
    "    ar = w/float(h)\n",
    "    if w>=20 and h>=20 and ar>=0.9 and ar<=1.1:\n",
    "        questionCnts.append(c)\n",
    "\n",
    "for i in questionCnts:\n",
    "    cv2.drawContours(paper_copy,[i],-1,(0,0,255),4)"
   ]
  },
  {
   "cell_type": "code",
   "execution_count": 9,
   "metadata": {},
   "outputs": [],
   "source": [
    "cv2.imshow(\"Questions\",paper_copy)\n",
    "cv2.waitKey(0)\n",
    "cv2.destroyWindow(\"Questions\")"
   ]
  },
  {
   "cell_type": "markdown",
   "metadata": {},
   "source": [
    "# Finding Correct,Skipped,Multiple attempted answers"
   ]
  },
  {
   "cell_type": "code",
   "execution_count": 10,
   "metadata": {},
   "outputs": [
    {
     "name": "stdout",
     "output_type": "stream",
     "text": [
      "Corrected 4\n",
      "Skipped 0\n",
      "Multiple 0\n"
     ]
    }
   ],
   "source": [
    "# sort the contours to obtain row wise list of contours\n",
    "# from the contours we obtained above\n",
    "questionCnts = contours.sort_contours(questionCnts,\n",
    "                                      method = \"top-to-bottom\")[0]\n",
    "correct = 0\n",
    "skipped = 0\n",
    "multiple = 0\n",
    "\n",
    "# sort the contours of each row to obtain\n",
    "# contoures of column in-order\n",
    "for (q,i) in enumerate(np.arange(0,len(questionCnts),5)):\n",
    "    cnts = contours.sort_contours(questionCnts[i:i+5])[0]\n",
    "    bubbled = None\n",
    "    count = 0\n",
    "    #Loop through each contour and find if it is bubbled or not\n",
    "    #500 is the threshold pixel value of a bubbled one\n",
    "    for (j,c) in enumerate(cnts):\n",
    "        mask = np.zeros(tresh.shape,dtype=\"uint8\")\n",
    "        cv2.drawContours(mask,[c],-1,255,-1)\n",
    "        mask = cv2.bitwise_and(tresh, tresh, mask=mask)\n",
    "        total = cv2.countNonZero(mask)\n",
    "        if total >= 500:\n",
    "            count +=1 \n",
    "        if bubbled is None or total > bubbled[0]:\n",
    "            bubbled = (total,j)\n",
    "        color = (0,0,255)\n",
    "    k = answer_key[q]\n",
    "    if count == 0:\n",
    "        skipped+=1\n",
    "    if k == bubbled[1] and count == 1:\n",
    "        color = (0,255,0)\n",
    "        correct += 1\n",
    "    if count>1:\n",
    "        multiple +=1\n",
    "        \n",
    "    cv2.drawContours(paper,[cnts[k]],-1,color,3)\n",
    "print(\"Corrected\",correct)\n",
    "print(\"Skipped\",skipped)\n",
    "print(\"Multiple\",multiple)"
   ]
  },
  {
   "cell_type": "code",
   "execution_count": 14,
   "metadata": {},
   "outputs": [],
   "source": [
    "percentage = (correct/5)*100\n",
    "cv2.putText(paper,\"{:.2f}%\".format(percentage),(10,25),\n",
    "           cv2.FONT_HERSHEY_SIMPLEX,0.7,(255,0,0),2)\n",
    "cv2.imshow(\"Paper\",paper)\n",
    "cv2.waitKey(0)\n",
    "cv2.destroyWindow(\"Paper\")"
   ]
  },
  {
   "cell_type": "markdown",
   "metadata": {},
   "source": [
    "<a href = \"https://www.pyimagesearch.com/2016/10/03/bubble-sheet-multiple-choice-scanner-and-test-grader-using-omr-python-and-opencv/\">For detailed Explanation</a>"
   ]
  }
 ],
 "metadata": {
  "kernelspec": {
   "display_name": "Python [conda env:AI]",
   "language": "python",
   "name": "conda-env-AI-py"
  },
  "language_info": {
   "codemirror_mode": {
    "name": "ipython",
    "version": 3
   },
   "file_extension": ".py",
   "mimetype": "text/x-python",
   "name": "python",
   "nbconvert_exporter": "python",
   "pygments_lexer": "ipython3",
   "version": "3.8.3"
  }
 },
 "nbformat": 4,
 "nbformat_minor": 4
}
